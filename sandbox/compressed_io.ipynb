{
 "cells": [
  {
   "cell_type": "code",
   "execution_count": 1,
   "metadata": {
    "collapsed": true
   },
   "outputs": [],
   "source": [
    "%load_ext autoreload\n",
    "%autoreload 2"
   ]
  },
  {
   "cell_type": "code",
   "execution_count": 3,
   "metadata": {
    "collapsed": true
   },
   "outputs": [],
   "source": [
    "import tarfile\n",
    "\n",
    "archive = '../tests/data/LT50120312002300-SC20151009172149.tar.gz'\n",
    "\n",
    "tgz = tarfile.open(archive)"
   ]
  },
  {
   "cell_type": "code",
   "execution_count": 7,
   "metadata": {
    "collapsed": false
   },
   "outputs": [],
   "source": [
    "test = tgz.extractfile(dict(zip(tgz.getnames(), tgz.getmembers()))['LT50120312002300-SC20151009172149/LT50120312002300LGS01_MTL.txt'])"
   ]
  },
  {
   "cell_type": "code",
   "execution_count": 8,
   "metadata": {
    "collapsed": true
   },
   "outputs": [],
   "source": [
    "from tilezilla.sensors import landsat"
   ]
  },
  {
   "cell_type": "code",
   "execution_count": 9,
   "metadata": {
    "collapsed": false
   },
   "outputs": [],
   "source": [
    "mtl = landsat.MTL.from_fid(test)"
   ]
  },
  {
   "cell_type": "code",
   "execution_count": 10,
   "metadata": {
    "collapsed": false
   },
   "outputs": [
    {
     "data": {
      "text/plain": [
       "OrderedDict([('GROUP', 'PROJECTION_PARAMETERS'),\n",
       "             ('ORIGIN', 'Image courtesy of the U.S. Geological Survey'),\n",
       "             ('REQUEST_ID', '0101406180520_00231'),\n",
       "             ('LANDSAT_SCENE_ID', 'LT50120312002300LGS01'),\n",
       "             ('FILE_DATE', '2014-06-19T18:14:43Z'),\n",
       "             ('STATION_ID', 'LGS'),\n",
       "             ('PROCESSING_SOFTWARE_VERSION', 'LPGS_12.4.1'),\n",
       "             ('DATA_CATEGORY', 'NOMINAL'),\n",
       "             ('END_GROUP', 'L1_METADATA_FILE'),\n",
       "             ('DATA_TYPE', 'L1T'),\n",
       "             ('DATA_TYPE_L0RP', 'TMR_L0RP'),\n",
       "             ('ELEVATION_SOURCE', 'GLS2000'),\n",
       "             ('OUTPUT_FORMAT', 'GEOTIFF'),\n",
       "             ('EPHEMERIS_TYPE', 'DEFINITIVE'),\n",
       "             ('SPACECRAFT_ID', 'LANDSAT_5'),\n",
       "             ('SENSOR_ID', 'TM'),\n",
       "             ('SENSOR_MODE', 'BUMPER'),\n",
       "             ('WRS_PATH', '012'),\n",
       "             ('WRS_ROW', '031'),\n",
       "             ('DATE_ACQUIRED', '2002-10-27'),\n",
       "             ('SCENE_CENTER_TIME', '14:59:44.4780440Z'),\n",
       "             ('CORNER_UL_LAT_PRODUCT', '42.72345'),\n",
       "             ('CORNER_UL_LON_PRODUCT', '-72.93023'),\n",
       "             ('CORNER_UR_LAT_PRODUCT', '42.78689'),\n",
       "             ('CORNER_UR_LON_PRODUCT', '-69.96345'),\n",
       "             ('CORNER_LL_LAT_PRODUCT', '40.74463'),\n",
       "             ('CORNER_LL_LON_PRODUCT', '-72.81123'),\n",
       "             ('CORNER_LR_LAT_PRODUCT', '40.80383'),\n",
       "             ('CORNER_LR_LON_PRODUCT', '-69.93419'),\n",
       "             ('CORNER_UL_PROJECTION_X_PRODUCT', '178200.000'),\n",
       "             ('CORNER_UL_PROJECTION_Y_PRODUCT', '4737600.000'),\n",
       "             ('CORNER_UR_PROJECTION_X_PRODUCT', '421200.000'),\n",
       "             ('CORNER_UR_PROJECTION_Y_PRODUCT', '4737600.000'),\n",
       "             ('CORNER_LL_PROJECTION_X_PRODUCT', '178200.000'),\n",
       "             ('CORNER_LL_PROJECTION_Y_PRODUCT', '4517400.000'),\n",
       "             ('CORNER_LR_PROJECTION_X_PRODUCT', '421200.000'),\n",
       "             ('CORNER_LR_PROJECTION_Y_PRODUCT', '4517400.000'),\n",
       "             ('REFLECTIVE_LINES', '7341'),\n",
       "             ('REFLECTIVE_SAMPLES', '8101'),\n",
       "             ('THERMAL_LINES', '7341'),\n",
       "             ('THERMAL_SAMPLES', '8101'),\n",
       "             ('FILE_NAME_BAND_1', 'LT50120312002300LGS01_B1.TIF'),\n",
       "             ('FILE_NAME_BAND_2', 'LT50120312002300LGS01_B2.TIF'),\n",
       "             ('FILE_NAME_BAND_3', 'LT50120312002300LGS01_B3.TIF'),\n",
       "             ('FILE_NAME_BAND_4', 'LT50120312002300LGS01_B4.TIF'),\n",
       "             ('FILE_NAME_BAND_5', 'LT50120312002300LGS01_B5.TIF'),\n",
       "             ('FILE_NAME_BAND_6', 'LT50120312002300LGS01_B6.TIF'),\n",
       "             ('FILE_NAME_BAND_7', 'LT50120312002300LGS01_B7.TIF'),\n",
       "             ('GROUND_CONTROL_POINT_FILE_NAME',\n",
       "              'LT50120312002300LGS01_GCP.txt'),\n",
       "             ('REPORT_VERIFY_FILE_NAME', 'LT50120312002300LGS01_VER.txt'),\n",
       "             ('BROWSE_VERIFY_FILE_NAME', 'LT50120312002300LGS01_VER.jpg'),\n",
       "             ('METADATA_FILE_NAME', 'LT50120312002300LGS01_MTL.txt'),\n",
       "             ('CPF_NAME', 'L5CPF20021001_20021130.10'),\n",
       "             ('CLOUD_COVER', '0.00'),\n",
       "             ('IMAGE_QUALITY', '9'),\n",
       "             ('SUN_AZIMUTH', '154.07084519'),\n",
       "             ('SUN_ELEVATION', '31.57190834'),\n",
       "             ('GROUND_CONTROL_POINTS_MODEL', '222'),\n",
       "             ('GEOMETRIC_RMSE_MODEL', '3.178'),\n",
       "             ('GEOMETRIC_RMSE_MODEL_Y', '2.189'),\n",
       "             ('GEOMETRIC_RMSE_MODEL_X', '2.304'),\n",
       "             ('GROUND_CONTROL_POINTS_VERIFY', '1922'),\n",
       "             ('GEOMETRIC_RMSE_VERIFY', '0.085'),\n",
       "             ('GEOMETRIC_RMSE_VERIFY_QUAD_UL', '0.084'),\n",
       "             ('GEOMETRIC_RMSE_VERIFY_QUAD_UR', '0.092'),\n",
       "             ('GEOMETRIC_RMSE_VERIFY_QUAD_LL', '0.074'),\n",
       "             ('GEOMETRIC_RMSE_VERIFY_QUAD_LR', '0.099'),\n",
       "             ('RADIANCE_MAXIMUM_BAND_1', '193.000'),\n",
       "             ('RADIANCE_MINIMUM_BAND_1', '-1.520'),\n",
       "             ('RADIANCE_MAXIMUM_BAND_2', '365.000'),\n",
       "             ('RADIANCE_MINIMUM_BAND_2', '-2.840'),\n",
       "             ('RADIANCE_MAXIMUM_BAND_3', '264.000'),\n",
       "             ('RADIANCE_MINIMUM_BAND_3', '-1.170'),\n",
       "             ('RADIANCE_MAXIMUM_BAND_4', '221.000'),\n",
       "             ('RADIANCE_MINIMUM_BAND_4', '-1.510'),\n",
       "             ('RADIANCE_MAXIMUM_BAND_5', '30.200'),\n",
       "             ('RADIANCE_MINIMUM_BAND_5', '-0.370'),\n",
       "             ('RADIANCE_MAXIMUM_BAND_6', '15.303'),\n",
       "             ('RADIANCE_MINIMUM_BAND_6', '1.238'),\n",
       "             ('RADIANCE_MAXIMUM_BAND_7', '16.500'),\n",
       "             ('RADIANCE_MINIMUM_BAND_7', '-0.150'),\n",
       "             ('QUANTIZE_CAL_MAX_BAND_1', '255'),\n",
       "             ('QUANTIZE_CAL_MIN_BAND_1', '1'),\n",
       "             ('QUANTIZE_CAL_MAX_BAND_2', '255'),\n",
       "             ('QUANTIZE_CAL_MIN_BAND_2', '1'),\n",
       "             ('QUANTIZE_CAL_MAX_BAND_3', '255'),\n",
       "             ('QUANTIZE_CAL_MIN_BAND_3', '1'),\n",
       "             ('QUANTIZE_CAL_MAX_BAND_4', '255'),\n",
       "             ('QUANTIZE_CAL_MIN_BAND_4', '1'),\n",
       "             ('QUANTIZE_CAL_MAX_BAND_5', '255'),\n",
       "             ('QUANTIZE_CAL_MIN_BAND_5', '1'),\n",
       "             ('QUANTIZE_CAL_MAX_BAND_6', '255'),\n",
       "             ('QUANTIZE_CAL_MIN_BAND_6', '1'),\n",
       "             ('QUANTIZE_CAL_MAX_BAND_7', '255'),\n",
       "             ('QUANTIZE_CAL_MIN_BAND_7', '1'),\n",
       "             ('CORRECTION_GAIN_BAND_1', 'CPF'),\n",
       "             ('CORRECTION_GAIN_BAND_2', 'CPF'),\n",
       "             ('CORRECTION_GAIN_BAND_3', 'CPF'),\n",
       "             ('CORRECTION_GAIN_BAND_4', 'CPF'),\n",
       "             ('CORRECTION_GAIN_BAND_5', 'CPF'),\n",
       "             ('CORRECTION_GAIN_BAND_6', 'INTERNAL_CALIBRATION'),\n",
       "             ('CORRECTION_GAIN_BAND_7', 'CPF'),\n",
       "             ('CORRECTION_BIAS_BAND_1', 'CPF'),\n",
       "             ('CORRECTION_BIAS_BAND_2', 'CPF'),\n",
       "             ('CORRECTION_BIAS_BAND_3', 'CPF'),\n",
       "             ('CORRECTION_BIAS_BAND_4', 'CPF'),\n",
       "             ('CORRECTION_BIAS_BAND_5', 'CPF'),\n",
       "             ('CORRECTION_BIAS_BAND_6', 'CPF'),\n",
       "             ('CORRECTION_BIAS_BAND_7', 'CPF'),\n",
       "             ('RADIANCE_MULT_BAND_1', '0.766'),\n",
       "             ('RADIANCE_MULT_BAND_2', '1.448'),\n",
       "             ('RADIANCE_MULT_BAND_3', '1.044'),\n",
       "             ('RADIANCE_MULT_BAND_4', '0.876'),\n",
       "             ('RADIANCE_MULT_BAND_5', '0.120'),\n",
       "             ('RADIANCE_MULT_BAND_6', '0.055'),\n",
       "             ('RADIANCE_MULT_BAND_7', '0.066'),\n",
       "             ('RADIANCE_ADD_BAND_1', '-2.28583'),\n",
       "             ('RADIANCE_ADD_BAND_2', '-4.28819'),\n",
       "             ('RADIANCE_ADD_BAND_3', '-2.21398'),\n",
       "             ('RADIANCE_ADD_BAND_4', '-2.38602'),\n",
       "             ('RADIANCE_ADD_BAND_5', '-0.49035'),\n",
       "             ('RADIANCE_ADD_BAND_6', '1.18243'),\n",
       "             ('RADIANCE_ADD_BAND_7', '-0.21555'),\n",
       "             ('MAP_PROJECTION', 'UTM'),\n",
       "             ('DATUM', 'WGS84'),\n",
       "             ('ELLIPSOID', 'WGS84'),\n",
       "             ('UTM_ZONE', '19'),\n",
       "             ('GRID_CELL_SIZE_REFLECTIVE', '30.00'),\n",
       "             ('GRID_CELL_SIZE_THERMAL', '30.00'),\n",
       "             ('ORIENTATION', 'NORTH_UP'),\n",
       "             ('RESAMPLING_OPTION', 'CUBIC_CONVOLUTION'),\n",
       "             ('MAP_PROJECTION_L0RA', 'NA')])"
      ]
     },
     "execution_count": 10,
     "metadata": {},
     "output_type": "execute_result"
    }
   ],
   "source": [
    "mtl.data"
   ]
  },
  {
   "cell_type": "code",
   "execution_count": 27,
   "metadata": {
    "collapsed": false
   },
   "outputs": [
    {
     "data": {
      "text/plain": [
       "b''"
      ]
     },
     "execution_count": 27,
     "metadata": {},
     "output_type": "execute_result"
    }
   ],
   "source": [
    "test.readline()"
   ]
  },
  {
   "cell_type": "code",
   "execution_count": 25,
   "metadata": {
    "collapsed": false
   },
   "outputs": [
    {
     "data": {
      "text/plain": [
       "OrderedDict()"
      ]
     },
     "execution_count": 25,
     "metadata": {},
     "output_type": "execute_result"
    }
   ],
   "source": [
    "mtl.data"
   ]
  },
  {
   "cell_type": "code",
   "execution_count": 18,
   "metadata": {
    "collapsed": false
   },
   "outputs": [
    {
     "data": {
      "text/plain": [
       "<ExFileObject name='../tests/data/LT50120312002300-SC20151009172149.tar.gz'>"
      ]
     },
     "execution_count": 18,
     "metadata": {},
     "output_type": "execute_result"
    }
   ],
   "source": [
    "test"
   ]
  },
  {
   "cell_type": "code",
   "execution_count": 16,
   "metadata": {
    "collapsed": true
   },
   "outputs": [],
   "source": [
    "import rasterio\n",
    "from rasterio import vfs\n",
    "img = 'LT50120312002300-SC20151009172149/LT50120312002300LGS01_sr_band1.tif'"
   ]
  },
  {
   "cell_type": "code",
   "execution_count": 15,
   "metadata": {
    "collapsed": false
   },
   "outputs": [
    {
     "data": {
      "text/plain": [
       "('LT50120312002300-SC20151009172149/LT50120312002300LGS01_sr_band1.tif',\n",
       " '../tests/data/LT50120312002300-SC20151009172149.tar.gz',\n",
       " 'tar')"
      ]
     },
     "execution_count": 15,
     "metadata": {},
     "output_type": "execute_result"
    }
   ],
   "source": [
    "vfs.parse_path(, vfs='tar://{}'.format(archive))"
   ]
  },
  {
   "cell_type": "code",
   "execution_count": 22,
   "metadata": {
    "collapsed": false
   },
   "outputs": [
    {
     "data": {
      "text/plain": [
       "array([[[ 365,  365,  335, ...,  361,  419,  390],\n",
       "        [ 394,  365,  335, ...,  390,  390,  361],\n",
       "        [ 424,  394,  394, ...,  361,  419,  361],\n",
       "        ..., \n",
       "        [ 334,  334,  392, ...,  331,  360,  331],\n",
       "        [ 334,  334,  334, ...,  419,  508,  626],\n",
       "        [ 334,  334,  334, ...,  566, 1006, 1151]]], dtype=int16)"
      ]
     },
     "execution_count": 22,
     "metadata": {},
     "output_type": "execute_result"
    }
   ],
   "source": [
    "ds = rasterio.open('/vsitar/{}/{}'.format(archive, img))\n",
    "ds.read()"
   ]
  }
 ],
 "metadata": {
  "kernelspec": {
   "display_name": "Python 3",
   "language": "python",
   "name": "python3"
  },
  "language_info": {
   "codemirror_mode": {
    "name": "ipython",
    "version": 3
   },
   "file_extension": ".py",
   "mimetype": "text/x-python",
   "name": "python",
   "nbconvert_exporter": "python",
   "pygments_lexer": "ipython3",
   "version": "3.5.1"
  }
 },
 "nbformat": 4,
 "nbformat_minor": 0
}
