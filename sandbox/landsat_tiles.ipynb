{
 "cells": [
  {
   "cell_type": "code",
   "execution_count": 80,
   "metadata": {
    "collapsed": false
   },
   "outputs": [],
   "source": [
    "import cartopy\n",
    "import fiona as fio\n",
    "import matplotlib.pyplot as plt\n",
    "import rasterio\n",
    "import rasterio.crs\n",
    "import rasterio.warp\n",
    "import shapely.geometry"
   ]
  },
  {
   "cell_type": "markdown",
   "metadata": {},
   "source": [
    "## Reference\n",
    "\n",
    "1. http://stackoverflow.com/questions/13856123/setting-up-a-map-which-crosses-the-dateline-in-cartopy\n",
    "2. http://gis.stackexchange.com/questions/143294/plot-points-on-map-using-fiona-and-or-shapely"
   ]
  },
  {
   "cell_type": "markdown",
   "metadata": {},
   "source": [
    "## Setup"
   ]
  },
  {
   "cell_type": "markdown",
   "metadata": {},
   "source": [
    "### Setup NLCD projection"
   ]
  },
  {
   "cell_type": "code",
   "execution_count": 81,
   "metadata": {
    "collapsed": false
   },
   "outputs": [],
   "source": [
    "nlcd_albers = cartopy.crs.AlbersEqualArea(central_longitude=-96, central_latitude=23,\n",
    "                                          standard_parallels=(29.5, 45.5))"
   ]
  },
  {
   "cell_type": "markdown",
   "metadata": {},
   "source": [
    "## `shapely`"
   ]
  },
  {
   "cell_type": "code",
   "execution_count": 83,
   "metadata": {
    "collapsed": true
   },
   "outputs": [],
   "source": [
    "tile_lon, tile_lat = -72.0, 41.0"
   ]
  },
  {
   "cell_type": "code",
   "execution_count": 84,
   "metadata": {
    "collapsed": false
   },
   "outputs": [],
   "source": [
    "bbox = [(tile_lon, tile_lat), (tile_lon + 1, tile_lat), (tile_lon + 1, tile_lat + 1), (tile_lon, tile_lat + 1)]"
   ]
  },
  {
   "cell_type": "code",
   "execution_count": 85,
   "metadata": {
    "collapsed": false
   },
   "outputs": [],
   "source": [
    "tile = shapely.geometry.Polygon(bbox)\n",
    "tile_proj = cartopy.crs.PlateCarree()"
   ]
  },
  {
   "cell_type": "markdown",
   "metadata": {},
   "source": [
    "## Plot with `cartopy` and `shapely`"
   ]
  },
  {
   "cell_type": "code",
   "execution_count": 77,
   "metadata": {
    "collapsed": false
   },
   "outputs": [],
   "source": [
    "# Setup axes\n",
    "ax = plt.axes(projection=nlcd_albers)\n",
    "# Add default features -- coastlines & stock image\n",
    "ax.coastlines()\n",
    "# ax.stock_img()\n",
    "\n",
    "ax.add_geometries([tile], tile_proj, facecolor='coral', edgecolor='k', alpha=0.5)\n",
    "ax.add_geometries([nlcd_tile], nlcd_albers, facecolor='blue', edgecolor='k', alpha=0.5)\n",
    "plt.show()"
   ]
  },
  {
   "cell_type": "code",
   "execution_count": 12,
   "metadata": {
    "collapsed": false
   },
   "outputs": [],
   "source": [
    "# NLCD 1992: http://webmap.ornl.gov/ogcdown/wcsdown.jsp?dg_id=10009_21\n",
    "# Projection: USA Contiguous Albers Equal Area Conic (NLCD)\n",
    "# Spatial Extent: N: 3177735, S: 267885, E: 2266005, W: -2361915\n",
    "nlcd_n, nlcd_s, nlcd_e, nlcd_w = 3177735, 267885, 2266005, -2361915\n",
    "nlcd_tile = shapely.geometry.Polygon([(nlcd_e, nlcd_n),\n",
    "                                      (nlcd_w, nlcd_n),\n",
    "                                      (nlcd_w, nlcd_s),\n",
    "                                      (nlcd_e, nlcd_s)])"
   ]
  },
  {
   "cell_type": "markdown",
   "metadata": {},
   "source": [
    "## Tile coordinates"
   ]
  },
  {
   "cell_type": "code",
   "execution_count": 13,
   "metadata": {
    "collapsed": false
   },
   "outputs": [
    {
     "data": {
      "text/plain": [
       "(1981435.104505844, 2250528.3325550687)"
      ]
     },
     "execution_count": 13,
     "metadata": {},
     "output_type": "execute_result"
    }
   ],
   "source": [
    "tile_albers_x, tile_albers_y = nlcd_albers.transform_point(tile_lon, tile_lat, tile_proj)\n",
    "tile_albers_x, tile_albers_y"
   ]
  },
  {
   "cell_type": "code",
   "execution_count": 59,
   "metadata": {
    "collapsed": false
   },
   "outputs": [
    {
     "data": {
      "text/plain": [
       "(-2361915.0, 267885.0, 2266005.0, 3177735.0)"
      ]
     },
     "execution_count": 59,
     "metadata": {},
     "output_type": "execute_result"
    }
   ],
   "source": [
    "nlcd_tile.bounds"
   ]
  },
  {
   "cell_type": "code",
   "execution_count": 72,
   "metadata": {
    "collapsed": false
   },
   "outputs": [
    {
     "data": {
      "text/plain": [
       "(-2361915, 1981435.104505844)"
      ]
     },
     "execution_count": 72,
     "metadata": {},
     "output_type": "execute_result"
    }
   ],
   "source": [
    "nlcd_w, tile_albers_x"
   ]
  },
  {
   "cell_type": "code",
   "execution_count": 103,
   "metadata": {
    "collapsed": true
   },
   "outputs": [],
   "source": [
    "def match_to_grid(input_xy, grid_xy, pix_size):\n",
    "    \"\"\" Return new postings for input that coalign with grid\n",
    "    \n",
    "    Args:\n",
    "      input_ul (tuple): X/Y coordinate of input extent to be repositioned\n",
    "      grid_ul (tuple): X/Y coordinate of grid extent to match\n",
    "      pix_size (tuple): X/Y pixel sizes of data to match\n",
    "      \n",
    "    Returns:\n",
    "      tuple: new X/Y coordinate of matched input \n",
    "\n",
    "    \"\"\"\n",
    "    new_xy = []\n",
    "    for g_xy, i_xy, ps in zip(grid_xy, input_xy, pix_size):\n",
    "        offset = int(round((g_xy - i_xy) / ps))\n",
    "        new_xy.append(g_xy - offset * ps)\n",
    "    return new_xy"
   ]
  },
  {
   "cell_type": "code",
   "execution_count": 105,
   "metadata": {
    "collapsed": false
   },
   "outputs": [
    {
     "data": {
      "text/plain": [
       "[1981425, 2250555]"
      ]
     },
     "execution_count": 105,
     "metadata": {},
     "output_type": "execute_result"
    }
   ],
   "source": [
    "match_to_grid((tile_albers_x, tile_albers_y),\n",
    "              (nlcd_w, nlcd_n),\n",
    "              (30, 30))"
   ]
  },
  {
   "cell_type": "markdown",
   "metadata": {},
   "source": [
    "## `rasterio`"
   ]
  },
  {
   "cell_type": "code",
   "execution_count": 69,
   "metadata": {
    "collapsed": true
   },
   "outputs": [],
   "source": [
    "nlcd_crs_proj4 = '+proj=aea +lat_1=29.5 +lat_2=45.5 +lat_0=23 +lon_0=-96 +x_0=0 +y_0=0 +ellps=GRS80 +datum=NAD83 +units=m +no_defs '\n",
    "nlcd_crs = rasterio.crs.from_string(nlcd_crs_proj4)"
   ]
  },
  {
   "cell_type": "code",
   "execution_count": 86,
   "metadata": {
    "collapsed": false
   },
   "outputs": [
    {
     "data": {
      "text/plain": [
       "([1981435.1045201581], [2250528.3325191094])"
      ]
     },
     "execution_count": 86,
     "metadata": {},
     "output_type": "execute_result"
    }
   ],
   "source": [
    "tile_lon, tile_lat = -72.0, 41.0\n",
    "\n",
    "rasterio.warp.transform({'init': 'epsg:4326'}, \n",
    "                        nlcd_crs,\n",
    "                        [tile_lon], \n",
    "                        [tile_lat])"
   ]
  },
  {
   "cell_type": "code",
   "execution_count": 94,
   "metadata": {
    "collapsed": false
   },
   "outputs": [],
   "source": [
    "tile_bounds = (tile_lon, tile_lat, tile_lon + 1, tile_lat + 1)\n",
    "\n",
    "bounds_albers =  rasterio.warp.transform_bounds(\n",
    "    {'init': 'epsg:4326'},\n",
    "    nlcd_crs,\n",
    "    tile_lon, tile_lat, tile_lon + 1, tile_lat + 1)"
   ]
  },
  {
   "cell_type": "code",
   "execution_count": 95,
   "metadata": {
    "collapsed": false
   },
   "outputs": [
    {
     "data": {
      "text/plain": [
       "(1953469.5791992692, 2250528.3325191094, 2062121.0342337284, 2379874.020125433)"
      ]
     },
     "execution_count": 95,
     "metadata": {},
     "output_type": "execute_result"
    }
   ],
   "source": [
    "bounds_albers"
   ]
  },
  {
   "cell_type": "code",
   "execution_count": 111,
   "metadata": {
    "collapsed": false
   },
   "outputs": [
    {
     "name": "stdout",
     "output_type": "stream",
     "text": [
      "[1953465, 2250525]\n",
      "[2062125, 2379885]\n"
     ]
    }
   ],
   "source": [
    "print(match_to_grid(bounds_albers[0:2], (nlcd_w, nlcd_n), (30, 30)))\n",
    "print(match_to_grid(bounds_albers[2:4], (nlcd_w, nlcd_n), (30, 30)))"
   ]
  }
 ],
 "metadata": {
  "kernelspec": {
   "display_name": "Python 2",
   "language": "python",
   "name": "python2"
  },
  "language_info": {
   "codemirror_mode": {
    "name": "ipython",
    "version": 2
   },
   "file_extension": ".py",
   "mimetype": "text/x-python",
   "name": "python",
   "nbconvert_exporter": "python",
   "pygments_lexer": "ipython2",
   "version": "2.7.10"
  }
 },
 "nbformat": 4,
 "nbformat_minor": 0
}
