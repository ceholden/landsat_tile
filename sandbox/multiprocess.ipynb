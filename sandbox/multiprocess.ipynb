{
 "cells": [
  {
   "cell_type": "code",
   "execution_count": 142,
   "metadata": {
    "collapsed": false
   },
   "outputs": [
    {
     "name": "stdout",
     "output_type": "stream",
     "text": [
      "The autoreload extension is already loaded. To reload it, use:\n",
      "  %reload_ext autoreload\n"
     ]
    }
   ],
   "source": [
    "%load_ext autoreload\n",
    "%autoreload 2"
   ]
  },
  {
   "cell_type": "code",
   "execution_count": 193,
   "metadata": {
    "collapsed": false
   },
   "outputs": [],
   "source": [
    "import os\n",
    "\n",
    "import ipyparallel as ipp\n",
    "\n",
    "rc = ipp.Client()\n",
    "v = rc.load_balanced_view()\n",
    "v.block = False\n",
    "dv = rc[:]\n",
    "dv.block = False"
   ]
  },
  {
   "cell_type": "markdown",
   "metadata": {},
   "source": [
    "Experiment into threading writes to NetCDF files\n",
    "\n",
    "See: \n",
    "* https://github.com/Unidata/netcdf4-python/issues/369\n",
    "* https://github.com/Unidata/netcdf4-python/issues/18"
   ]
  },
  {
   "cell_type": "code",
   "execution_count": 194,
   "metadata": {
    "collapsed": false
   },
   "outputs": [
    {
     "name": "stdout",
     "output_type": "stream",
     "text": [
      "Overwriting process.py\n"
     ]
    }
   ],
   "source": [
    "%%writefile process.py\n",
    "import logging\n",
    "import sys\n",
    "import threading\n",
    "import time\n",
    "\n",
    "FORMAT = '%(asctime)-15s %(clientip)s %(user)-8s %(message)s'\n",
    "logging.basicConfig(format=FORMAT, stream=sys.stderr)\n",
    "\n",
    "logger = logging.getLogger('test')\n",
    "\n",
    "_GLOBAL_LOCK = threading.Lock()\n",
    "print('Global Lock: {}'.format(_GLOBAL_LOCK))\n",
    "\n",
    "\n",
    "class Process(object):\n",
    "    \n",
    "    def __init__(self, a):\n",
    "        self.a = a\n",
    "        \n",
    "    def add(self, value):\n",
    "        with _GLOBAL_LOCK:\n",
    "            logger.info(\"Adding {} to {}\".format(value, self.a))\n",
    "            print(\"{}: Adding {} to {}\".format(time.asctime(), value, self.a))\n",
    "            self.a += value\n",
    "            time.sleep(2)\n",
    "            \n",
    "    def subtract(self, value):\n",
    "        \n",
    "        with _GLOBAL_LOCK:\n",
    "            logger.info(\"Subtracting {} from {}\".format(value, self.a))\n",
    "            print(\"{}: Subtracting {} from {}\".format(time.asctime(), value, self.a))\n",
    "            self.a -= value\n",
    "            time.sleep(2)"
   ]
  },
  {
   "cell_type": "code",
   "execution_count": 139,
   "metadata": {
    "collapsed": false
   },
   "outputs": [
    {
     "name": "stdout",
     "output_type": "stream",
     "text": [
      "Lock: <unlocked _thread.lock object at 0x7f31b49fe198>\n"
     ]
    }
   ],
   "source": [
    "import process"
   ]
  },
  {
   "cell_type": "code",
   "execution_count": 79,
   "metadata": {
    "collapsed": false
   },
   "outputs": [],
   "source": [
    "pp = process.Process(0)\n",
    "pp.add(5)\n",
    "pp.subtract(5)"
   ]
  },
  {
   "cell_type": "code",
   "execution_count": 195,
   "metadata": {
    "collapsed": false
   },
   "outputs": [
    {
     "name": "stdout",
     "output_type": "stream",
     "text": [
      "Global Lock: <unlocked _thread.lock object at 0x7f31b49c4b20>\n"
     ]
    }
   ],
   "source": [
    "def test(to_add, to_subtract):\n",
    "    import process\n",
    "    pp = process.Process(0)\n",
    "    pp.add(to_add)\n",
    "    pp.subtract(to_subtract / 2.)\n",
    "    return pp.a\n",
    "\n",
    "\n",
    "def test2(pp, to_add, to_subtract):\n",
    "    pp.add(to_add)\n",
    "    pp.subtract(to_subtract / 2.)\n",
    "    return pp.a\n",
    "\n",
    "\n",
    "to_add = range(1, 51, 10)\n",
    "to_subtract = range(1, 10, 2)"
   ]
  },
  {
   "cell_type": "code",
   "execution_count": 196,
   "metadata": {
    "collapsed": false
   },
   "outputs": [],
   "source": [
    "ar = rc[:].map(test, to_add, to_subtract)"
   ]
  },
  {
   "cell_type": "code",
   "execution_count": 197,
   "metadata": {
    "collapsed": false
   },
   "outputs": [
    {
     "data": {
      "text/plain": [
       "[0.5, 9.5, 18.5, 27.5, 36.5]"
      ]
     },
     "execution_count": 197,
     "metadata": {},
     "output_type": "execute_result"
    }
   ],
   "source": [
    "ar.get()"
   ]
  },
  {
   "cell_type": "code",
   "execution_count": 199,
   "metadata": {
    "collapsed": false
   },
   "outputs": [
    {
     "data": {
      "text/plain": [
       "[['Global Lock: <unlocked _thread.lock object at 0x7f55682c5328>',\n",
       "  'Fri Feb 26 10:10:44 2016: Adding 1 to 0',\n",
       "  'Fri Feb 26 10:10:46 2016: Subtracting 0.5 from 1',\n",
       "  'Fri Feb 26 10:10:48 2016: Adding 11 to 0',\n",
       "  'Fri Feb 26 10:10:50 2016: Subtracting 1.5 from 11',\n",
       "  ''],\n",
       " ['Global Lock: <unlocked _thread.lock object at 0x7f8f38dc6328>',\n",
       "  'Fri Feb 26 10:10:44 2016: Adding 21 to 0',\n",
       "  'Fri Feb 26 10:10:46 2016: Subtracting 2.5 from 21',\n",
       "  ''],\n",
       " ['Global Lock: <unlocked _thread.lock object at 0x7fee4419a328>',\n",
       "  'Fri Feb 26 10:10:44 2016: Adding 31 to 0',\n",
       "  'Fri Feb 26 10:10:46 2016: Subtracting 3.5 from 31',\n",
       "  ''],\n",
       " ['Global Lock: <unlocked _thread.lock object at 0x7fdb2dbce328>',\n",
       "  'Fri Feb 26 10:10:44 2016: Adding 41 to 0',\n",
       "  'Fri Feb 26 10:10:46 2016: Subtracting 4.5 from 41',\n",
       "  '']]"
      ]
     },
     "execution_count": 199,
     "metadata": {},
     "output_type": "execute_result"
    }
   ],
   "source": [
    "[md['stdout'].split('\\n') for md in ar.metadata]"
   ]
  },
  {
   "cell_type": "code",
   "execution_count": 200,
   "metadata": {
    "collapsed": false
   },
   "outputs": [],
   "source": [
    "pps = [process.Process(0) for i in range(4)]\n",
    "\n",
    "ar = rc[:].map(test2, pps, to_add, to_subtract)"
   ]
  },
  {
   "cell_type": "code",
   "execution_count": 201,
   "metadata": {
    "collapsed": false
   },
   "outputs": [
    {
     "data": {
      "text/plain": [
       "[0.5, 9.5, 18.5, 27.5]"
      ]
     },
     "execution_count": 201,
     "metadata": {},
     "output_type": "execute_result"
    }
   ],
   "source": [
    "ar.get()"
   ]
  },
  {
   "cell_type": "code",
   "execution_count": 202,
   "metadata": {
    "collapsed": false
   },
   "outputs": [
    {
     "data": {
      "text/plain": [
       "[['Fri Feb 26 10:11:53 2016: Adding 1 to 0',\n",
       "  'Fri Feb 26 10:11:55 2016: Subtracting 0.5 from 1',\n",
       "  'Fri Feb 26 10:11:57 2016: Adding 11 to 0',\n",
       "  'Fri Feb 26 10:11:59 2016: Subtracting 1.5 from 11',\n",
       "  ''],\n",
       " ['Fri Feb 26 10:11:53 2016: Adding 21 to 0',\n",
       "  'Fri Feb 26 10:11:55 2016: Subtracting 2.5 from 21',\n",
       "  ''],\n",
       " ['Fri Feb 26 10:11:53 2016: Adding 31 to 0',\n",
       "  'Fri Feb 26 10:11:55 2016: Subtracting 3.5 from 31',\n",
       "  ''],\n",
       " ['']]"
      ]
     },
     "execution_count": 202,
     "metadata": {},
     "output_type": "execute_result"
    }
   ],
   "source": [
    "[md['stdout'].split('\\n') for md in ar.metadata]"
   ]
  },
  {
   "cell_type": "code",
   "execution_count": 185,
   "metadata": {
    "collapsed": false
   },
   "outputs": [
    {
     "data": {
      "text/plain": [
       "'Fri Feb 26 10:09:59 2016'"
      ]
     },
     "execution_count": 185,
     "metadata": {},
     "output_type": "execute_result"
    }
   ],
   "source": [
    "import time\n",
    "time.asctime()"
   ]
  },
  {
   "cell_type": "code",
   "execution_count": 160,
   "metadata": {
    "collapsed": false
   },
   "outputs": [
    {
     "data": {
      "text/plain": [
       "['Global Lock: <unlocked _thread.lock object at 0x7f963c07d328>\\n',\n",
       " 'Global Lock: <unlocked _thread.lock object at 0x7f27b8315328>\\n',\n",
       " 'Global Lock: <unlocked _thread.lock object at 0x7f5460690328>\\n',\n",
       " '']"
      ]
     },
     "execution_count": 160,
     "metadata": {},
     "output_type": "execute_result"
    }
   ],
   "source": [
    "[md['stdout'] for md in ar.metadata]"
   ]
  },
  {
   "cell_type": "code",
   "execution_count": 227,
   "metadata": {
    "collapsed": true
   },
   "outputs": [],
   "source": [
    "def nc_stats(files):\n",
    "    from netCDF4 import Dataset\n",
    "    import numpy as np\n",
    "    import time\n",
    "    means = {}\n",
    "    for f in files:\n",
    "        with Dataset(f, 'as') as ds:\n",
    "            data = ds.variables['grid'][:]\n",
    "            \n",
    "            time.sleep(1)\n",
    "            means[f] = (time.asctime(), data.mean())\n",
    "    return means    "
   ]
  },
  {
   "cell_type": "code",
   "execution_count": 221,
   "metadata": {
    "collapsed": false
   },
   "outputs": [
    {
     "data": {
      "text/plain": [
       "['test0.nc', 'test1.nc', 'test2.nc', 'test3.nc']"
      ]
     },
     "execution_count": 221,
     "metadata": {},
     "output_type": "execute_result"
    }
   ],
   "source": [
    "files = ['test%d.nc' % i for i in range(4)]\n",
    "files"
   ]
  },
  {
   "cell_type": "code",
   "execution_count": 228,
   "metadata": {
    "collapsed": true
   },
   "outputs": [],
   "source": [
    "ar = rc[:].apply_async(nc_stats, files)"
   ]
  },
  {
   "cell_type": "code",
   "execution_count": 229,
   "metadata": {
    "collapsed": false
   },
   "outputs": [
    {
     "data": {
      "text/plain": [
       "[{'test0.nc': ('Fri Feb 26 10:23:16 2016', -0.0001619481),\n",
       "  'test1.nc': ('Fri Feb 26 10:23:18 2016', -6.604439e-06),\n",
       "  'test2.nc': ('Fri Feb 26 10:23:19 2016', 8.5475462e-05),\n",
       "  'test3.nc': ('Fri Feb 26 10:23:21 2016', -9.1590366e-05)},\n",
       " {'test0.nc': ('Fri Feb 26 10:23:16 2016', -0.0001619481),\n",
       "  'test1.nc': ('Fri Feb 26 10:23:18 2016', -6.604439e-06),\n",
       "  'test2.nc': ('Fri Feb 26 10:23:19 2016', 8.5475462e-05),\n",
       "  'test3.nc': ('Fri Feb 26 10:23:20 2016', -9.1590366e-05)},\n",
       " {'test0.nc': ('Fri Feb 26 10:23:16 2016', -0.0001619481),\n",
       "  'test1.nc': ('Fri Feb 26 10:23:18 2016', -6.604439e-06),\n",
       "  'test2.nc': ('Fri Feb 26 10:23:19 2016', 8.5475462e-05),\n",
       "  'test3.nc': ('Fri Feb 26 10:23:21 2016', -9.1590366e-05)},\n",
       " {'test0.nc': ('Fri Feb 26 10:23:16 2016', -0.0001619481),\n",
       "  'test1.nc': ('Fri Feb 26 10:23:18 2016', -6.604439e-06),\n",
       "  'test2.nc': ('Fri Feb 26 10:23:19 2016', 8.5475462e-05),\n",
       "  'test3.nc': ('Fri Feb 26 10:23:21 2016', -9.1590366e-05)}]"
      ]
     },
     "execution_count": 229,
     "metadata": {},
     "output_type": "execute_result"
    }
   ],
   "source": [
    "ar.get()"
   ]
  },
  {
   "cell_type": "code",
   "execution_count": null,
   "metadata": {
    "collapsed": true
   },
   "outputs": [],
   "source": []
  },
  {
   "cell_type": "code",
   "execution_count": null,
   "metadata": {
    "collapsed": true
   },
   "outputs": [],
   "source": []
  },
  {
   "cell_type": "code",
   "execution_count": null,
   "metadata": {
    "collapsed": true
   },
   "outputs": [],
   "source": []
  },
  {
   "cell_type": "code",
   "execution_count": null,
   "metadata": {
    "collapsed": true
   },
   "outputs": [],
   "source": []
  },
  {
   "cell_type": "code",
   "execution_count": null,
   "metadata": {
    "collapsed": true
   },
   "outputs": [],
   "source": []
  },
  {
   "cell_type": "code",
   "execution_count": null,
   "metadata": {
    "collapsed": true
   },
   "outputs": [],
   "source": []
  },
  {
   "cell_type": "code",
   "execution_count": null,
   "metadata": {
    "collapsed": true
   },
   "outputs": [],
   "source": []
  },
  {
   "cell_type": "code",
   "execution_count": 100,
   "metadata": {
    "collapsed": true
   },
   "outputs": [],
   "source": [
    "from tilezilla import _util, tilespec, products, stores"
   ]
  },
  {
   "cell_type": "code",
   "execution_count": null,
   "metadata": {
    "collapsed": true
   },
   "outputs": [],
   "source": [
    "def save(product, spec, desired_bands):\n",
    "    from tilezilla import _util, tilespec, products, stores\n",
    "    tiles = spec.bounds_to_tile(product.bounding_box(spec.crs))\n",
    "    for b in product.bands:\n",
    "        for ti in tiles:\n",
    "            store = stores.GeoTIFFStore('tests/data/stores/GeoTIFF', ti, product)\n",
    "    \n",
    "            with "
   ]
  },
  {
   "cell_type": "code",
   "execution_count": 102,
   "metadata": {
    "collapsed": true
   },
   "outputs": [],
   "source": [
    "weld_conus = tilespec.TILESPECS['WELD_CONUS']\n",
    "collection = [\n",
    "    products.ESPALandsat('../tests/data/LT50120312002300-SC20151009172149/'),\n",
    "    products.ESPALandsat('../tests/data/LT50120312002300-SC20151009172149_EPSG5070')\n",
    "]\n",
    "\n",
    "\n",
    "tile = list(weld_conus.bounds_to_tile(product.bounding_box(weld_conus.crs)))[0]\n",
    "\n",
    "store = stores.GeoTIFFStore('tests/data/stores/GeoTIFF', tile, product)\n",
    "\n",
    "include_filter = {\n",
    "    'long_name': ('.*surface reflectance.*', '.*brightness temperature.*', '^cfmask_band$',)\n",
    "}\n",
    "to_store = _util.multiple_filter(\n",
    "    [b.long_name for b in product.bands],\n",
    "    ('.*surface reflectance.*', '.*brightness temperature.*', '^cfmask_band$',),\n",
    "    True)"
   ]
  }
 ],
 "metadata": {
  "kernelspec": {
   "display_name": "Python 3",
   "language": "python",
   "name": "python3"
  },
  "language_info": {
   "codemirror_mode": {
    "name": "ipython",
    "version": 3
   },
   "file_extension": ".py",
   "mimetype": "text/x-python",
   "name": "python",
   "nbconvert_exporter": "python",
   "pygments_lexer": "ipython3",
   "version": "3.5.1"
  }
 },
 "nbformat": 4,
 "nbformat_minor": 0
}
